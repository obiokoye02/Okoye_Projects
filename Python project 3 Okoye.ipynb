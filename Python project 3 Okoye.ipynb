{
 "cells": [
  {
   "cell_type": "markdown",
   "metadata": {
    "id": "7kf0uynGsQIv"
   },
   "source": [
    "## Project 3- ISQS3345"
   ]
  },
  {
   "cell_type": "markdown",
   "metadata": {
    "id": "9f7m114tsQIz"
   },
   "source": [
    "This dataset includes quantitative and categorical features from Google Play Store Apps. In this dataset, each row represents one App and its features."
   ]
  },
  {
   "cell_type": "markdown",
   "metadata": {
    "id": "yvDm7VJOsQI0"
   },
   "source": [
    "**Question 1: In the following, type a code to create a DataFrame from a GoogleApp CSV File (name the dataframe df). Then use head() to display the first 6 rows of the df**"
   ]
  },
  {
   "cell_type": "code",
   "execution_count": null,
   "metadata": {
    "id": "tsFOqX39sQI0"
   },
   "outputs": [],
   "source": []
  },
  {
   "cell_type": "markdown",
   "metadata": {
    "id": "NKzc2mRpsQI1"
   },
   "source": [
    "**Question 2: In the following, type a code to display the number of rows and columns of the df**"
   ]
  },
  {
   "cell_type": "code",
   "execution_count": null,
   "metadata": {
    "id": "MQFeObnzsQI1"
   },
   "outputs": [],
   "source": []
  },
  {
   "cell_type": "markdown",
   "metadata": {
    "id": "uu3srMCWsQI1"
   },
   "source": [
    "**Question 3: In the following, type a code to display the list of columns in the df**"
   ]
  },
  {
   "cell_type": "code",
   "execution_count": null,
   "metadata": {
    "id": "BZQxcHApsQI1"
   },
   "outputs": [],
   "source": []
  },
  {
   "cell_type": "markdown",
   "metadata": {
    "id": "TXUumAZWsQI2"
   },
   "source": [
    "**Question 4: In the following, type a code to sort  df dataframe by 'Rating' in  Descending order and  by Installs in  Descending order and save it to df2 ( It should sort df first by Rating and second by Installs). Then, use head() to display the first 5 rows in df2**"
   ]
  },
  {
   "cell_type": "code",
   "execution_count": null,
   "metadata": {
    "id": "usAy30hMsQI2"
   },
   "outputs": [],
   "source": []
  },
  {
   "cell_type": "markdown",
   "metadata": {
    "id": "gk9snkVbsQI2"
   },
   "source": [
    "**Question 5: In the following, type a code to sort df dataframe by 'Rating' in ascending order and save it to df2. Then, use slicing to subset the first 6 rows of 'App', 'Category', 'Rating', and 'Type' columns of df2**"
   ]
  },
  {
   "cell_type": "code",
   "execution_count": null,
   "metadata": {
    "id": "hqJBY9HtsQI2"
   },
   "outputs": [],
   "source": []
  },
  {
   "cell_type": "markdown",
   "metadata": {
    "id": "bihqHLzcsQI3"
   },
   "source": [
    "**Question 6: In the following, sort df dataframe by 'Category' in the descending order and save it to df2. Then,  use .iloc method to subset the first 6 rows of 'App', 'Category', 'Rating', and 'Reviews' columns of df2 dataframe, create a deep copy of it and save it to df3. Finally, display df3 in the output**"
   ]
  },
  {
   "cell_type": "code",
   "execution_count": null,
   "metadata": {
    "id": "08BX6w8WsQI3"
   },
   "outputs": [],
   "source": []
  },
  {
   "cell_type": "markdown",
   "metadata": {
    "id": "YX4lZoVJsQI3"
   },
   "source": [
    "**Question 7: In the following, use .loc method to subset the df dataframe to show 'App', 'Category', 'Rating' columns  with these conditions:  'Category' is FAMILY and 'Rating' is less than or equal to 5, create a deep copy of df, and save it in df2. Use head() to display the first 5 rows of df2**"
   ]
  },
  {
   "cell_type": "code",
   "execution_count": null,
   "metadata": {
    "id": "vYshmrBWsQI3"
   },
   "outputs": [],
   "source": []
  },
  {
   "cell_type": "markdown",
   "metadata": {
    "id": "zL-AKh3IsQI3"
   },
   "source": [
    "**Question 8: In the following, create a subset of 'App', 'Category', 'Rating', and 'Installs' columns of df dataframe and save it to df2. Then, use query() function to filter the df2 dataframe based on three conditions: Category is \"TOOLS', Rating is greater or equal to 5, and Installs is less than or equal to 500 and save it to df3. Use head() to display the first 5 rows of df3.**"
   ]
  },
  {
   "cell_type": "code",
   "execution_count": null,
   "metadata": {
    "id": "U9ztjy-IsQI4"
   },
   "outputs": [],
   "source": []
  },
  {
   "cell_type": "markdown",
   "metadata": {
    "id": "08-mP4T4sQI4"
   },
   "source": [
    "**Question 9: In the following, type a code to create a boolean column 'HighRating' in the df dataframe. The 'HighRating' has the value of True if 'Rating' is greater than or equal to 4. Otherwise, its value is False. Create a subset of 'Rating' and 'HighRating' columns in the df dataframe and save it to df2. Use head() to display the first 5 rows of df2**"
   ]
  },
  {
   "cell_type": "code",
   "execution_count": null,
   "metadata": {
    "id": "RfUIi9lWsQI4"
   },
   "outputs": [],
   "source": []
  },
  {
   "cell_type": "markdown",
   "metadata": {
    "id": "T_iTANDNsQI4"
   },
   "source": [
    "**Question 10: Use .loc and conditional to create a new column 'RatingCategory' in the df datafarme . If Rating is less than 4, we will code it as 'Low'.  If Rating is greater than or equal to 4, we will code it as 'High'.**\n",
    "* **use Slicing to show the first 5 rows of 'Rating' and 'RatingCategory' columns in the output.**"
   ]
  },
  {
   "cell_type": "code",
   "execution_count": null,
   "metadata": {
    "id": "HjVTjNFSsQI4"
   },
   "outputs": [],
   "source": []
  },
  {
   "cell_type": "markdown",
   "metadata": {
    "id": "GZRgrNMlsQI5"
   },
   "source": [
    "**Question 11: In the following, type a code that counts the number of apps for each 'Category'  in the df dataftame and save it to df2. Then, use head() to display the first 5 rows in df2**"
   ]
  },
  {
   "cell_type": "code",
   "execution_count": null,
   "metadata": {
    "id": "rpsmak_IsQI5"
   },
   "outputs": [],
   "source": []
  },
  {
   "cell_type": "markdown",
   "metadata": {
    "id": "xc6mork4sQI5"
   },
   "source": [
    "**Question 12: In the following, type a code to calculate the average 'Rating' for each 'Category' in the df dataframe and save it to df2. Use head() to display the first 5 rows in df2**"
   ]
  },
  {
   "cell_type": "code",
   "execution_count": null,
   "metadata": {
    "id": "aTdusSc4sQI5"
   },
   "outputs": [],
   "source": []
  },
  {
   "cell_type": "markdown",
   "metadata": {
    "id": "_jgwRLFvsQI5"
   },
   "source": [
    "**Question 13: In the following,  type a code to calculate the average 'Rating' and average 'Reviews' for each 'Category' in the df dataframe and save it in df2. Then, use head() to display the firt 5 rows of df2**  \n",
    "(Your output  should display average 'Rating' and average 'Reviews' for each 'Category' in **one table**.)"
   ]
  },
  {
   "cell_type": "code",
   "execution_count": null,
   "metadata": {
    "id": "LBSmhJudsQI5"
   },
   "outputs": [],
   "source": []
  },
  {
   "cell_type": "markdown",
   "metadata": {
    "id": "gMCA2ogCsQI5"
   },
   "source": [
    "**Question 14: In the following type the code that shows the unique values in the 'Category' columns in df dataframe.**"
   ]
  },
  {
   "cell_type": "code",
   "execution_count": null,
   "metadata": {
    "id": "v4d-Giz_sQI5"
   },
   "outputs": [],
   "source": []
  }
 ],
 "metadata": {
  "colab": {
   "provenance": []
  },
  "kernelspec": {
   "display_name": "Python 3 (ipykernel)",
   "language": "python",
   "name": "python3"
  },
  "language_info": {
   "codemirror_mode": {
    "name": "ipython",
    "version": 3
   },
   "file_extension": ".py",
   "mimetype": "text/x-python",
   "name": "python",
   "nbconvert_exporter": "python",
   "pygments_lexer": "ipython3",
   "version": "3.9.7"
  }
 },
 "nbformat": 4,
 "nbformat_minor": 1
}
