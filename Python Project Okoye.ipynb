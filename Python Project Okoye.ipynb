{
 "cells": [
  {
   "cell_type": "markdown",
   "id": "b8e278d6",
   "metadata": {},
   "source": [
    "# Read CSV file"
   ]
  },
  {
   "cell_type": "markdown",
   "id": "f396955a",
   "metadata": {},
   "source": [
    "**First step. You need to get to know your data. So, better trying with csv file, you directly open your file**\n",
    "\n",
    "**Next step, you need to read your csv file, you call \"reader\" to be able to read your file**\n",
    "\n",
    "Then, you need to use a \"for loop\" to iterate over each line in the CSV file"
   ]
  },
  {
   "cell_type": "code",
   "execution_count": 29,
   "id": "07ba8644",
   "metadata": {},
   "outputs": [
    {
     "name": "stdout",
     "output_type": "stream",
     "text": [
      "['Name', '     \"Sex\"', ' \"Age\"', ' \"Height (in)\"', ' \"Weight (lbs)\"']\n",
      "['Alex', '       \"M\"', '   41', '       74', '      170']\n",
      "['Bert', '       \"M\"', '   42', '       68', '      166']\n",
      "['Carl', '       \"M\"', '   32', '       70', '      155']\n",
      "['Dave', '       \"M\"', '   39', '       72', '      167']\n",
      "['Elly', '       \"F\"', '   30', '       66', '      124']\n",
      "['Fran', '       \"F\"', '   33', '       66', '      115']\n",
      "['Gwen', '       \"F\"', '   26', '       64', '      121']\n",
      "['Hank', '       \"M\"', '   30', '       71', '      158']\n",
      "['Ivan', '       \"M\"', '   53', '       72', '      175']\n",
      "['Jake', '       \"M\"', '   32', '       69', '      143']\n",
      "['Kate', '       \"F\"', '   47', '       69', '      139']\n",
      "['Luke', '       \"M\"', '   34', '       72', '      163']\n",
      "['Myra', '       \"F\"', '   23', '       62', '       98']\n",
      "['Neil', '       \"M\"', '   36', '       75', '      160']\n",
      "['Omar', '       \"M\"', '   38', '       70', '      145']\n",
      "['Page', '       \"F\"', '   31', '       67', '      135']\n",
      "['Quin', '       \"M\"', '   29', '       71', '      176']\n",
      "['Ruth', '       \"F\"', '   28', '       65', '      131']\n",
      "['Sara', 'F', '10', '30', '139']\n",
      "[]\n",
      "['Sara', 'F', '10', '30', '139']\n",
      "[]\n"
     ]
    }
   ],
   "source": [
    "import csv\n",
    "with open('C:\\\\Users\\\\bahar\\\\Downloads\\\\Data.csv',mode='r') as csv_file:\n",
    "    reader=csv.reader(csv_file)#this is the reader object\n",
    "    for item in reader:\n",
    "        #you have to loop through the document to get each data\n",
    "        print(item)"
   ]
  },
  {
   "cell_type": "code",
   "execution_count": 30,
   "id": "436ecd14",
   "metadata": {},
   "outputs": [
    {
     "data": {
      "text/plain": [
       "'C:\\\\Users\\\\bahar\\\\Downloads'"
      ]
     },
     "execution_count": 30,
     "metadata": {},
     "output_type": "execute_result"
    }
   ],
   "source": [
    "pwd"
   ]
  },
  {
   "cell_type": "code",
   "execution_count": 31,
   "id": "dd46a64d",
   "metadata": {},
   "outputs": [
    {
     "name": "stdout",
     "output_type": "stream",
     "text": [
      "['Name', '     \"Sex\"', ' \"Age\"', ' \"Height (in)\"', ' \"Weight (lbs)\"']\n",
      "['Alex', '       \"M\"', '   41', '       74', '      170']\n",
      "['Bert', '       \"M\"', '   42', '       68', '      166']\n",
      "['Carl', '       \"M\"', '   32', '       70', '      155']\n",
      "['Dave', '       \"M\"', '   39', '       72', '      167']\n",
      "['Elly', '       \"F\"', '   30', '       66', '      124']\n",
      "['Fran', '       \"F\"', '   33', '       66', '      115']\n",
      "['Gwen', '       \"F\"', '   26', '       64', '      121']\n",
      "['Hank', '       \"M\"', '   30', '       71', '      158']\n",
      "['Ivan', '       \"M\"', '   53', '       72', '      175']\n",
      "['Jake', '       \"M\"', '   32', '       69', '      143']\n",
      "['Kate', '       \"F\"', '   47', '       69', '      139']\n",
      "['Luke', '       \"M\"', '   34', '       72', '      163']\n",
      "['Myra', '       \"F\"', '   23', '       62', '       98']\n",
      "['Neil', '       \"M\"', '   36', '       75', '      160']\n",
      "['Omar', '       \"M\"', '   38', '       70', '      145']\n",
      "['Page', '       \"F\"', '   31', '       67', '      135']\n",
      "['Quin', '       \"M\"', '   29', '       71', '      176']\n",
      "['Ruth', '       \"F\"', '   28', '       65', '      131']\n",
      "['Sara', 'F', '10', '30', '139']\n",
      "[]\n",
      "['Sara', 'F', '10', '30', '139']\n",
      "[]\n"
     ]
    }
   ],
   "source": [
    "import csv\n",
    "with open('C:\\\\Users\\\\bahar\\\\Downloads\\\\Data.csv',mode=\"r\")as csv_file:\n",
    "    reader=csv.reader(csv_file)\n",
    "    for item in reader:\n",
    "        print(item)"
   ]
  },
  {
   "cell_type": "code",
   "execution_count": 32,
   "id": "95307358",
   "metadata": {
    "scrolled": true
   },
   "outputs": [
    {
     "ename": "PermissionError",
     "evalue": "[Errno 13] Permission denied: 'C:\\\\Users\\\\bahar\\\\Downloads\\\\Data.csv'",
     "output_type": "error",
     "traceback": [
      "\u001b[1;31m---------------------------------------------------------------------------\u001b[0m",
      "\u001b[1;31mPermissionError\u001b[0m                           Traceback (most recent call last)",
      "\u001b[1;32m~\\AppData\\Local\\Temp/ipykernel_63056/2135577800.py\u001b[0m in \u001b[0;36m<module>\u001b[1;34m\u001b[0m\n\u001b[0;32m      4\u001b[0m \u001b[1;31m#Dictionary\u001b[0m\u001b[1;33m\u001b[0m\u001b[1;33m\u001b[0m\u001b[0m\n\u001b[0;32m      5\u001b[0m \u001b[0mdict\u001b[0m\u001b[1;33m=\u001b[0m\u001b[1;33m{\u001b[0m\u001b[1;34m\"Name\"\u001b[0m\u001b[1;33m:\u001b[0m\u001b[1;34m\"Sara\"\u001b[0m\u001b[1;33m,\u001b[0m\u001b[1;34m\"Sex\"\u001b[0m\u001b[1;33m:\u001b[0m\u001b[1;34m\"F\"\u001b[0m\u001b[1;33m,\u001b[0m\u001b[1;34m\"Age\"\u001b[0m\u001b[1;33m:\u001b[0m\u001b[1;36m10\u001b[0m\u001b[1;33m,\u001b[0m\u001b[1;34m\"Height(in)\"\u001b[0m\u001b[1;33m:\u001b[0m\u001b[1;36m30\u001b[0m\u001b[1;33m,\u001b[0m\u001b[1;34m\"Weight(lbs)\"\u001b[0m\u001b[1;33m:\u001b[0m\u001b[1;36m139\u001b[0m\u001b[1;33m}\u001b[0m\u001b[1;33m\u001b[0m\u001b[1;33m\u001b[0m\u001b[0m\n\u001b[1;32m----> 6\u001b[1;33m \u001b[1;32mwith\u001b[0m \u001b[0mopen\u001b[0m\u001b[1;33m(\u001b[0m\u001b[1;34m'C:\\\\Users\\\\bahar\\\\Downloads\\\\Data.csv'\u001b[0m\u001b[1;33m,\u001b[0m\u001b[1;34m'a'\u001b[0m\u001b[1;33m)\u001b[0m \u001b[1;32mas\u001b[0m \u001b[0mcsv_file\u001b[0m\u001b[1;33m:\u001b[0m\u001b[1;33m\u001b[0m\u001b[1;33m\u001b[0m\u001b[0m\n\u001b[0m\u001b[0;32m      7\u001b[0m     \u001b[0mdict_object\u001b[0m\u001b[1;33m=\u001b[0m\u001b[0mcsv\u001b[0m\u001b[1;33m.\u001b[0m\u001b[0mDictWriter\u001b[0m\u001b[1;33m(\u001b[0m\u001b[0mcsv_file\u001b[0m\u001b[1;33m,\u001b[0m\u001b[0mfieldnames\u001b[0m\u001b[1;33m=\u001b[0m\u001b[0mfield_names\u001b[0m\u001b[1;33m)\u001b[0m\u001b[1;33m\u001b[0m\u001b[1;33m\u001b[0m\u001b[0m\n\u001b[0;32m      8\u001b[0m     \u001b[0mdict_object\u001b[0m\u001b[1;33m.\u001b[0m\u001b[0mwriterow\u001b[0m\u001b[1;33m(\u001b[0m\u001b[0mdict\u001b[0m\u001b[1;33m)\u001b[0m\u001b[1;33m\u001b[0m\u001b[1;33m\u001b[0m\u001b[0m\n",
      "\u001b[1;31mPermissionError\u001b[0m: [Errno 13] Permission denied: 'C:\\\\Users\\\\bahar\\\\Downloads\\\\Data.csv'"
     ]
    }
   ],
   "source": [
    "import csv\n",
    "#list of column name\n",
    "field_names=['Name','Sex','Age','Height(in)','Weight(lbs)']\n",
    "#Dictionary\n",
    "dict={\"Name\":\"Sara\",\"Sex\":\"F\",\"Age\":10,\"Height(in)\":30,\"Weight(lbs)\":139}\n",
    "with open('C:\\\\Users\\\\bahar\\\\Downloads\\\\Data.csv','a') as csv_file:\n",
    "    dict_object=csv.DictWriter(csv_file,fieldnames=field_names)\n",
    "    dict_object.writerow(dict)"
   ]
  },
  {
   "cell_type": "markdown",
   "id": "64794fe9",
   "metadata": {},
   "source": [
    "# Assignment 2\n",
    "\n",
    "**now I  want you to read data named \"tabel1.csv\" , call the function name \"read_csv\" that takes the name of a CSV file and returns a list of the field names from that file. This function takes the first row of the csv file that contains field names** \n",
    "\n",
    "**Step2:you need to take the name of a csv file and return the data within a file as a list of dictionaries. Each item in the list corresponds to a row in the CSV file**\n",
    "\n",
    " "
   ]
  },
  {
   "cell_type": "code",
   "execution_count": null,
   "id": "671e22bf",
   "metadata": {},
   "outputs": [],
   "source": [
    " "
   ]
  },
  {
   "cell_type": "code",
   "execution_count": null,
   "id": "b5f03b46",
   "metadata": {},
   "outputs": [],
   "source": [
    " "
   ]
  },
  {
   "cell_type": "code",
   "execution_count": null,
   "id": "5ff99799",
   "metadata": {},
   "outputs": [],
   "source": [
    " "
   ]
  },
  {
   "cell_type": "markdown",
   "id": "453888f8",
   "metadata": {},
   "source": []
  }
 ],
 "metadata": {
  "kernelspec": {
   "display_name": "Python 3 (ipykernel)",
   "language": "python",
   "name": "python3"
  },
  "language_info": {
   "codemirror_mode": {
    "name": "ipython",
    "version": 3
   },
   "file_extension": ".py",
   "mimetype": "text/x-python",
   "name": "python",
   "nbconvert_exporter": "python",
   "pygments_lexer": "ipython3",
   "version": "3.9.7"
  }
 },
 "nbformat": 4,
 "nbformat_minor": 5
}
